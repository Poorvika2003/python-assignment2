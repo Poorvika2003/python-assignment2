{
  "nbformat": 4,
  "nbformat_minor": 0,
  "metadata": {
    "colab": {
      "provenance": []
    },
    "kernelspec": {
      "name": "python3",
      "display_name": "Python 3"
    },
    "language_info": {
      "name": "python"
    }
  },
  "cells": [
    {
      "cell_type": "code",
      "execution_count": null,
      "metadata": {
        "id": "zKsj7gWkKQiw"
      },
      "outputs": [],
      "source": []
    },
    {
      "cell_type": "markdown",
      "source": [
        "Name: Poorvika R    \n",
        "Date: 14-09-2024"
      ],
      "metadata": {
        "id": "DIpdCiNFKT73"
      }
    },
    {
      "cell_type": "markdown",
      "source": [
        "Part1: LISTS 1)Creating and accessing of elements from a list"
      ],
      "metadata": {
        "id": "wNpTrfr-KgTh"
      }
    },
    {
      "cell_type": "code",
      "source": [
        "fruits = [\"apple\",\"mango\",\"banana\",\"cherry\",\"orange\"] #lists of fruits\n",
        "print(fruits[1],fruits[3])"
      ],
      "metadata": {
        "colab": {
          "base_uri": "https://localhost:8080/"
        },
        "id": "WIaOer-SKcPL",
        "outputId": "e2ff1add-fd8b-4e05-98aa-2fae8c6687c8"
      },
      "execution_count": 1,
      "outputs": [
        {
          "output_type": "stream",
          "name": "stdout",
          "text": [
            "mango cherry\n"
          ]
        }
      ]
    },
    {
      "cell_type": "markdown",
      "source": [
        "2.Modifying a list"
      ],
      "metadata": {
        "id": "8EVovCK5LFFJ"
      }
    },
    {
      "cell_type": "code",
      "source": [
        "fruits = [\"apple\",\"mango\",\"banana\",\"cherry\",\"litchi\"]\n",
        "fruits.append(\"orange\")\n",
        "print(fruits)\n",
        "fruits[2] = \"kiwi\"\n",
        "print(fruits)\n",
        "fruits_2 = fruits.pop()\n",
        "print(fruits)"
      ],
      "metadata": {
        "colab": {
          "base_uri": "https://localhost:8080/"
        },
        "id": "eJLmcjALLAv_",
        "outputId": "c4a8897a-5580-467f-8378-1b9f918431f9"
      },
      "execution_count": 3,
      "outputs": [
        {
          "output_type": "stream",
          "name": "stdout",
          "text": [
            "['apple', 'mango', 'banana', 'cherry', 'litchi', 'orange']\n",
            "['apple', 'mango', 'kiwi', 'cherry', 'litchi', 'orange']\n",
            "['apple', 'mango', 'kiwi', 'cherry', 'litchi']\n"
          ]
        }
      ]
    },
    {
      "cell_type": "markdown",
      "source": [
        "3. Lists method"
      ],
      "metadata": {
        "id": "YBVO_5m1MFv0"
      }
    },
    {
      "cell_type": "code",
      "source": [
        "fruits = [\"apple\",\"mango\",\"banana\",\"cherry\",\"litchi\",\"apple\"]\n",
        "fruits.sort()\n",
        "print(fruits)\n",
        "fruits.reverse()\n",
        "print(fruits)\n",
        "print(fruits.count(\"apple\"))"
      ],
      "metadata": {
        "colab": {
          "base_uri": "https://localhost:8080/"
        },
        "id": "VRl0HzkfLiWx",
        "outputId": "dfa15ac8-0c63-4db9-dc82-f7c81f2fb24b"
      },
      "execution_count": 4,
      "outputs": [
        {
          "output_type": "stream",
          "name": "stdout",
          "text": [
            "['apple', 'apple', 'banana', 'cherry', 'litchi', 'mango']\n",
            "['mango', 'litchi', 'cherry', 'banana', 'apple', 'apple']\n",
            "2\n"
          ]
        }
      ]
    },
    {
      "cell_type": "markdown",
      "source": [
        "Part2: Tuples\n",
        "\n",
        "1.Create and access elements"
      ],
      "metadata": {
        "id": "FUoR46_AMqIE"
      }
    },
    {
      "cell_type": "code",
      "source": [
        "num=(10,20,30,40,50)\n",
        "print(num[0])\n",
        "print(num[4])"
      ],
      "metadata": {
        "colab": {
          "base_uri": "https://localhost:8080/"
        },
        "id": "rKGXSkcyMlZv",
        "outputId": "083c43a5-851e-4a16-8239-7424d1576382"
      },
      "execution_count": 6,
      "outputs": [
        {
          "output_type": "stream",
          "name": "stdout",
          "text": [
            "10\n",
            "50\n"
          ]
        }
      ]
    },
    {
      "cell_type": "markdown",
      "source": [
        "2.Immutable nature of tuples"
      ],
      "metadata": {
        "id": "QnHBc8RoNDIH"
      }
    },
    {
      "cell_type": "code",
      "source": [
        "num=(10,20,30,40,50)\n",
        "num[2]=25"
      ],
      "metadata": {
        "colab": {
          "base_uri": "https://localhost:8080/",
          "height": 158
        },
        "id": "nivtYbGgM7dh",
        "outputId": "cb84860a-cd71-4815-c387-8433a0c02f38"
      },
      "execution_count": 7,
      "outputs": [
        {
          "output_type": "error",
          "ename": "TypeError",
          "evalue": "'tuple' object does not support item assignment",
          "traceback": [
            "\u001b[0;31m---------------------------------------------------------------------------\u001b[0m",
            "\u001b[0;31mTypeError\u001b[0m                                 Traceback (most recent call last)",
            "\u001b[0;32m<ipython-input-7-d29b7926aedf>\u001b[0m in \u001b[0;36m<cell line: 2>\u001b[0;34m()\u001b[0m\n\u001b[1;32m      1\u001b[0m \u001b[0mnum\u001b[0m\u001b[0;34m=\u001b[0m\u001b[0;34m(\u001b[0m\u001b[0;36m10\u001b[0m\u001b[0;34m,\u001b[0m\u001b[0;36m20\u001b[0m\u001b[0;34m,\u001b[0m\u001b[0;36m30\u001b[0m\u001b[0;34m,\u001b[0m\u001b[0;36m40\u001b[0m\u001b[0;34m,\u001b[0m\u001b[0;36m50\u001b[0m\u001b[0;34m)\u001b[0m\u001b[0;34m\u001b[0m\u001b[0;34m\u001b[0m\u001b[0m\n\u001b[0;32m----> 2\u001b[0;31m \u001b[0mnum\u001b[0m\u001b[0;34m[\u001b[0m\u001b[0;36m2\u001b[0m\u001b[0;34m]\u001b[0m\u001b[0;34m=\u001b[0m\u001b[0;36m25\u001b[0m\u001b[0;34m\u001b[0m\u001b[0;34m\u001b[0m\u001b[0m\n\u001b[0m",
            "\u001b[0;31mTypeError\u001b[0m: 'tuple' object does not support item assignment"
          ]
        }
      ]
    },
    {
      "cell_type": "markdown",
      "source": [
        "3.Tuple operation"
      ],
      "metadata": {
        "id": "gUUabLXmNRQu"
      }
    },
    {
      "cell_type": "code",
      "source": [
        "num=(10,20,30,40,50)\n",
        "a,b,c,d,e=num\n",
        "print(\"a=\",a)\n",
        "print(\"b=\",b)\n",
        "print(\"c=\",c)\n",
        "print(\"d=\",d)\n",
        "print(\"e=\",e)"
      ],
      "metadata": {
        "colab": {
          "base_uri": "https://localhost:8080/"
        },
        "id": "UQU1NA-uNPId",
        "outputId": "ee992b3c-7dfa-4ef0-99ab-b07ba20c9f18"
      },
      "execution_count": 8,
      "outputs": [
        {
          "output_type": "stream",
          "name": "stdout",
          "text": [
            "a= 10\n",
            "b= 20\n",
            "c= 30\n",
            "d= 40\n",
            "e= 50\n"
          ]
        }
      ]
    },
    {
      "cell_type": "markdown",
      "source": [
        "Part3: Dictionaries\n",
        "\n",
        "1.Creat and access elements"
      ],
      "metadata": {
        "id": "uxRWpDOeNtKR"
      }
    },
    {
      "cell_type": "code",
      "source": [
        "dict_1={\"name\":\"john\",\"age\":\"20\",\"subject\":[\"math\",\"physics\",\"chemistry\"]}\n",
        "print(dict_1[\"age\"])"
      ],
      "metadata": {
        "colab": {
          "base_uri": "https://localhost:8080/"
        },
        "id": "GK6OkJkoNq1X",
        "outputId": "fbddaf3d-64c0-4309-f168-5b87df40a269"
      },
      "execution_count": 9,
      "outputs": [
        {
          "output_type": "stream",
          "name": "stdout",
          "text": [
            "20\n"
          ]
        }
      ]
    },
    {
      "cell_type": "markdown",
      "source": [
        "2.Modify the dictionary"
      ],
      "metadata": {
        "id": "R0LHrbrJON4Q"
      }
    },
    {
      "cell_type": "code",
      "source": [
        "dict_1={\"name\":\"john\",\"age\":\"20\",\"subject\":[\"math\",\"physics\",\"chemistry\"]}\n",
        "dict_1[\"grade\"]=\"A\"\n",
        "dict_1[\"age\"]=22\n",
        "dict_1.pop(\"subject\")\n",
        "print(dict_1)"
      ],
      "metadata": {
        "colab": {
          "base_uri": "https://localhost:8080/"
        },
        "id": "ZcGSB-J1OMpo",
        "outputId": "86ce6bda-9eef-4a56-b4be-6c54cc2bf7ed"
      },
      "execution_count": 13,
      "outputs": [
        {
          "output_type": "stream",
          "name": "stdout",
          "text": [
            "{'name': 'john', 'age': 22, 'grade': 'A'}\n"
          ]
        }
      ]
    },
    {
      "cell_type": "markdown",
      "source": [
        "3.Dictionary Methods"
      ],
      "metadata": {
        "id": "9mB73yw6PCub"
      }
    },
    {
      "cell_type": "code",
      "source": [
        "dict_2={'name':'john','age':21,'grade':'A'}\n",
        "print(dict_2.keys())\n",
        "print(dict_2.values())"
      ],
      "metadata": {
        "colab": {
          "base_uri": "https://localhost:8080/"
        },
        "id": "0YIFmxuJOmgH",
        "outputId": "545f6089-cfd7-4ef2-e589-d0eb73a44a58"
      },
      "execution_count": 15,
      "outputs": [
        {
          "output_type": "stream",
          "name": "stdout",
          "text": [
            "dict_keys(['name', 'age', 'grade'])\n",
            "dict_values(['john', 21, 'A'])\n"
          ]
        }
      ]
    },
    {
      "cell_type": "code",
      "source": [],
      "metadata": {
        "id": "W--vahwbPY5-"
      },
      "execution_count": null,
      "outputs": []
    }
  ]
}